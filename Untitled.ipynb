{
 "cells": [
  {
   "cell_type": "code",
   "execution_count": 2,
   "id": "f8eba4f2-148d-4a3f-a357-1c29a001bc73",
   "metadata": {},
   "outputs": [],
   "source": [
    "import cv2\n",
    "import numpy as np\n",
    "import os\n",
    "import pandas as pd"
   ]
  },
  {
   "cell_type": "code",
   "execution_count": 3,
   "id": "59d26470-cb21-47f2-abf3-eb7fb24eb7c4",
   "metadata": {},
   "outputs": [],
   "source": [
    "image_folder = \"images\"\n",
    "annotation_folder = \"_annotations.csv\"\n"
   ]
  },
  {
   "cell_type": "code",
   "execution_count": 4,
   "id": "6cac904a-31ef-4fd8-b1e7-6637b930d6a0",
   "metadata": {},
   "outputs": [],
   "source": [
    "def detect_blur(image_path, threshold=100):\n",
    "    image = cv2.imread(image_path)\n",
    "    gray = cv2.cvtColor(image, cv2.COLOR_BGR2GRAY)\n",
    "    laplacian_var = cv2.Laplacian(gray, cv2.CV_64F).var()\n",
    "    return laplacian_var < threshold"
   ]
  },
  {
   "cell_type": "code",
   "execution_count": 5,
   "id": "957f930e-1a32-4a2b-8371-3d4b4f90be18",
   "metadata": {},
   "outputs": [],
   "source": [
    "images = [img for img in os.listdir(image_folder) if img.endswith(('jpg', 'png', 'jpeg'))]\n"
   ]
  },
  {
   "cell_type": "code",
   "execution_count": 6,
   "id": "ca060458-1ebc-48fd-a0bd-71952ef07e23",
   "metadata": {},
   "outputs": [],
   "source": [
    "labels = []\n",
    "\n",
    "for img in images:\n",
    "    img_path = os.path.join(image_folder, img)\n",
    "    \n",
    "    # Get the corresponding annotation file\n",
    "    annotation_file = os.path.join(annotation_folder, img.replace('.jpg', '.txt'))\n",
    "    \n",
    "    if detect_blur(img_path):\n",
    "        labels.append({\"image\": img, \"annotation\": annotation_file, \"label\": \"unclear\"})\n",
    "    else:\n",
    "        labels.append({\"image\": img, \"annotation\": annotation_file, \"label\": \"clear\"})\n",
    "\n",
    "# Convert to DataFrame and save to CSV\n",
    "df = pd.DataFrame(labels)\n",
    "df.to_csv(\"image_labels_with_annotations.csv\", index=False)"
   ]
  },
  {
   "cell_type": "code",
   "execution_count": 7,
   "id": "ca091ee4-22e0-4769-8ca9-2b465421a9ca",
   "metadata": {},
   "outputs": [
    {
     "name": "stdout",
     "output_type": "stream",
     "text": [
      "Labeling completed and saved to 'image_labels_with_annotations.csv'\n"
     ]
    }
   ],
   "source": [
    "import cv2\n",
    "import numpy as np\n",
    "import os\n",
    "import pandas as pd\n",
    "\n",
    "# Define paths\n",
    "image_folder = \"images\"\n",
    "annotation_folder = \"_annotations.csv\"\n",
    "\n",
    "# Function to detect blur using Laplacian variance\n",
    "def detect_blur(image_path, blur_threshold=50):\n",
    "    image = cv2.imread(image_path)\n",
    "    gray = cv2.cvtColor(image, cv2.COLOR_BGR2GRAY)\n",
    "    laplacian_var = cv2.Laplacian(gray, cv2.CV_64F).var()\n",
    "    return laplacian_var < blur_threshold\n",
    "\n",
    "# Function to check contrast\n",
    "def detect_low_contrast(image_path, contrast_threshold=0.5):\n",
    "    image = cv2.imread(image_path)\n",
    "    gray = cv2.cvtColor(image, cv2.COLOR_BGR2GRAY)\n",
    "    norm_image = gray / 255.0\n",
    "    contrast = norm_image.max() - norm_image.min()\n",
    "    return contrast < contrast_threshold\n",
    "\n",
    "# Function to classify image\n",
    "def is_image_unclear(image_path, blur_threshold=50, contrast_threshold=0.5):\n",
    "    return detect_blur(image_path, blur_threshold) or detect_low_contrast(image_path, contrast_threshold)\n",
    "\n",
    "# Collect images in the dataset\n",
    "images = [img for img in os.listdir(image_folder) if img.endswith(('jpg', 'png', 'jpeg'))]\n",
    "\n",
    "# Initialize list to store labels\n",
    "labels = []\n",
    "\n",
    "for img in images:\n",
    "    img_path = os.path.join(image_folder, img)\n",
    "    \n",
    "    # Get the corresponding annotation file\n",
    "    annotation_file = os.path.join(annotation_folder, img.replace('.jpg', '.txt'))\n",
    "    \n",
    "    if is_image_unclear(img_path):\n",
    "        labels.append({\"image\": img, \"annotation\": annotation_file, \"label\": \"unclear\"})\n",
    "    else:\n",
    "        labels.append({\"image\": img, \"annotation\": annotation_file, \"label\": \"clear\"})\n",
    "\n",
    "# Convert to DataFrame and save to CSV\n",
    "df = pd.DataFrame(labels)\n",
    "df.to_csv(\"image_labels_with_annotations.csv\", index=False)\n",
    "\n",
    "print(\"Labeling completed and saved to 'image_labels_with_annotations.csv'\")\n"
   ]
  },
  {
   "cell_type": "code",
   "execution_count": null,
   "id": "7a410550-ff23-4dac-b3f0-ad35893fb4bf",
   "metadata": {},
   "outputs": [],
   "source": []
  }
 ],
 "metadata": {
  "kernelspec": {
   "display_name": "Python 3 (ipykernel)",
   "language": "python",
   "name": "python3"
  },
  "language_info": {
   "codemirror_mode": {
    "name": "ipython",
    "version": 3
   },
   "file_extension": ".py",
   "mimetype": "text/x-python",
   "name": "python",
   "nbconvert_exporter": "python",
   "pygments_lexer": "ipython3",
   "version": "3.12.6"
  }
 },
 "nbformat": 4,
 "nbformat_minor": 5
}
